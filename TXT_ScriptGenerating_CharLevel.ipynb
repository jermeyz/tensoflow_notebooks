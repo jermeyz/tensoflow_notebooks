{
  "nbformat": 4,
  "nbformat_minor": 0,
  "metadata": {
    "colab": {
      "name": "TXT_ScriptGenerating_CharLevel.ipynb",
      "provenance": [],
      "include_colab_link": true
    },
    "kernelspec": {
      "name": "python3",
      "display_name": "Python 3"
    }
  },
  "cells": [
    {
      "cell_type": "markdown",
      "metadata": {
        "id": "view-in-github",
        "colab_type": "text"
      },
      "source": [
        "<a href=\"https://colab.research.google.com/github/jermeyz/tensoflow_notebooks/blob/main/TXT_ScriptGenerating_CharLevel.ipynb\" target=\"_parent\"><img src=\"https://colab.research.google.com/assets/colab-badge.svg\" alt=\"Open In Colab\"/></a>"
      ]
    },
    {
      "cell_type": "code",
      "metadata": {
        "id": "SIIcnfqUGatN"
      },
      "source": [
        "import tensorflow as tf\n",
        "import numpy as np\n",
        "import pandas as pd"
      ],
      "execution_count": 1,
      "outputs": []
    },
    {
      "cell_type": "markdown",
      "metadata": {
        "id": "FgEqvmrgJQOd"
      },
      "source": [
        "## Data gathering"
      ]
    },
    {
      "cell_type": "code",
      "metadata": {
        "id": "VF00JQTxGpzv",
        "colab": {
          "base_uri": "https://localhost:8080/"
        },
        "outputId": "6b0e93d5-9289-40c0-d253-5da9c2b5b565"
      },
      "source": [
        "!wget https://storage.googleapis.com/download.tensorflow.org/data/shakespeare.txt"
      ],
      "execution_count": 2,
      "outputs": [
        {
          "output_type": "stream",
          "text": [
            "--2021-08-18 15:53:33--  https://storage.googleapis.com/download.tensorflow.org/data/shakespeare.txt\n",
            "Resolving storage.googleapis.com (storage.googleapis.com)... 142.250.99.128, 74.125.199.128, 74.125.20.128, ...\n",
            "Connecting to storage.googleapis.com (storage.googleapis.com)|142.250.99.128|:443... connected.\n",
            "HTTP request sent, awaiting response... 200 OK\n",
            "Length: 1115394 (1.1M) [text/plain]\n",
            "Saving to: ‘shakespeare.txt’\n",
            "\n",
            "\rshakespeare.txt       0%[                    ]       0  --.-KB/s               \rshakespeare.txt     100%[===================>]   1.06M  --.-KB/s    in 0.009s  \n",
            "\n",
            "2021-08-18 15:53:33 (122 MB/s) - ‘shakespeare.txt’ saved [1115394/1115394]\n",
            "\n"
          ],
          "name": "stdout"
        }
      ]
    },
    {
      "cell_type": "code",
      "metadata": {
        "id": "5tLaKfmlG3qB"
      },
      "source": [
        "text = open(\"./shakespeare.txt\", \"rb\").read().decode(\"utf-8\")"
      ],
      "execution_count": 3,
      "outputs": []
    },
    {
      "cell_type": "markdown",
      "metadata": {
        "id": "cRw8reTSJTSD"
      },
      "source": [
        "Create vocabulary and map each character in original document to a unique integer."
      ]
    },
    {
      "cell_type": "code",
      "metadata": {
        "id": "vEY5Y9uBAfxe",
        "colab": {
          "base_uri": "https://localhost:8080/"
        },
        "outputId": "910d4409-1ea7-4134-dcf8-39573ca7ea96"
      },
      "source": [
        "print(\"Number of characters:\", len(text))\n",
        "print(\"-\" * 50)\n",
        "print(text[:300])"
      ],
      "execution_count": 4,
      "outputs": [
        {
          "output_type": "stream",
          "text": [
            "Number of characters: 1115394\n",
            "--------------------------------------------------\n",
            "First Citizen:\n",
            "Before we proceed any further, hear me speak.\n",
            "\n",
            "All:\n",
            "Speak, speak.\n",
            "\n",
            "First Citizen:\n",
            "You are all resolved rather to die than to famish?\n",
            "\n",
            "All:\n",
            "Resolved. resolved.\n",
            "\n",
            "First Citizen:\n",
            "First, you know Caius Marcius is chief enemy to the people.\n",
            "\n",
            "All:\n",
            "We know't, we know't.\n",
            "\n",
            "First Citizen:\n",
            "Let us\n"
          ],
          "name": "stdout"
        }
      ]
    },
    {
      "cell_type": "markdown",
      "metadata": {
        "id": "TrXfQOAbB3Zw"
      },
      "source": [
        "Create vocabulary of all unique characters."
      ]
    },
    {
      "cell_type": "code",
      "metadata": {
        "id": "_aM1Mnz7HOgE",
        "colab": {
          "base_uri": "https://localhost:8080/"
        },
        "outputId": "fc2de197-b2a3-4155-e704-8b671114165a"
      },
      "source": [
        "vocab = sorted(set(text))\n",
        "print(vocab)\n",
        "ids_to_char = np.array(vocab)\n",
        "print(ids_to_char)\n",
        "char_to_ids = {char: char_idx for char_idx, char in enumerate(vocab)}\n",
        "print(char_to_ids)"
      ],
      "execution_count": 9,
      "outputs": [
        {
          "output_type": "stream",
          "text": [
            "['\\n', ' ', '!', '$', '&', \"'\", ',', '-', '.', '3', ':', ';', '?', 'A', 'B', 'C', 'D', 'E', 'F', 'G', 'H', 'I', 'J', 'K', 'L', 'M', 'N', 'O', 'P', 'Q', 'R', 'S', 'T', 'U', 'V', 'W', 'X', 'Y', 'Z', 'a', 'b', 'c', 'd', 'e', 'f', 'g', 'h', 'i', 'j', 'k', 'l', 'm', 'n', 'o', 'p', 'q', 'r', 's', 't', 'u', 'v', 'w', 'x', 'y', 'z']\n",
            "['\\n' ' ' '!' '$' '&' \"'\" ',' '-' '.' '3' ':' ';' '?' 'A' 'B' 'C' 'D' 'E'\n",
            " 'F' 'G' 'H' 'I' 'J' 'K' 'L' 'M' 'N' 'O' 'P' 'Q' 'R' 'S' 'T' 'U' 'V' 'W'\n",
            " 'X' 'Y' 'Z' 'a' 'b' 'c' 'd' 'e' 'f' 'g' 'h' 'i' 'j' 'k' 'l' 'm' 'n' 'o'\n",
            " 'p' 'q' 'r' 's' 't' 'u' 'v' 'w' 'x' 'y' 'z']\n",
            "{'\\n': 0, ' ': 1, '!': 2, '$': 3, '&': 4, \"'\": 5, ',': 6, '-': 7, '.': 8, '3': 9, ':': 10, ';': 11, '?': 12, 'A': 13, 'B': 14, 'C': 15, 'D': 16, 'E': 17, 'F': 18, 'G': 19, 'H': 20, 'I': 21, 'J': 22, 'K': 23, 'L': 24, 'M': 25, 'N': 26, 'O': 27, 'P': 28, 'Q': 29, 'R': 30, 'S': 31, 'T': 32, 'U': 33, 'V': 34, 'W': 35, 'X': 36, 'Y': 37, 'Z': 38, 'a': 39, 'b': 40, 'c': 41, 'd': 42, 'e': 43, 'f': 44, 'g': 45, 'h': 46, 'i': 47, 'j': 48, 'k': 49, 'l': 50, 'm': 51, 'n': 52, 'o': 53, 'p': 54, 'q': 55, 'r': 56, 's': 57, 't': 58, 'u': 59, 'v': 60, 'w': 61, 'x': 62, 'y': 63, 'z': 64}\n"
          ],
          "name": "stdout"
        }
      ]
    },
    {
      "cell_type": "markdown",
      "metadata": {
        "id": "K2RX6JfIB7Cb"
      },
      "source": [
        "Convert each character in the text to corresponding integer."
      ]
    },
    {
      "cell_type": "code",
      "metadata": {
        "id": "eq-5WMs_B2ns",
        "colab": {
          "base_uri": "https://localhost:8080/"
        },
        "outputId": "ec52a38a-1725-4603-d0c1-be50be63c5e7"
      },
      "source": [
        "text_ids = np.array([char_to_ids[char] for char in text])\n",
        "print(text_ids[:300])"
      ],
      "execution_count": 10,
      "outputs": [
        {
          "output_type": "stream",
          "text": [
            "[18 47 56 57 58  1 15 47 58 47 64 43 52 10  0 14 43 44 53 56 43  1 61 43\n",
            "  1 54 56 53 41 43 43 42  1 39 52 63  1 44 59 56 58 46 43 56  6  1 46 43\n",
            " 39 56  1 51 43  1 57 54 43 39 49  8  0  0 13 50 50 10  0 31 54 43 39 49\n",
            "  6  1 57 54 43 39 49  8  0  0 18 47 56 57 58  1 15 47 58 47 64 43 52 10\n",
            "  0 37 53 59  1 39 56 43  1 39 50 50  1 56 43 57 53 50 60 43 42  1 56 39\n",
            " 58 46 43 56  1 58 53  1 42 47 43  1 58 46 39 52  1 58 53  1 44 39 51 47\n",
            " 57 46 12  0  0 13 50 50 10  0 30 43 57 53 50 60 43 42  8  1 56 43 57 53\n",
            " 50 60 43 42  8  0  0 18 47 56 57 58  1 15 47 58 47 64 43 52 10  0 18 47\n",
            " 56 57 58  6  1 63 53 59  1 49 52 53 61  1 15 39 47 59 57  1 25 39 56 41\n",
            " 47 59 57  1 47 57  1 41 46 47 43 44  1 43 52 43 51 63  1 58 53  1 58 46\n",
            " 43  1 54 43 53 54 50 43  8  0  0 13 50 50 10  0 35 43  1 49 52 53 61  5\n",
            " 58  6  1 61 43  1 49 52 53 61  5 58  8  0  0 18 47 56 57 58  1 15 47 58\n",
            " 47 64 43 52 10  0 24 43 58  1 59 57]\n"
          ],
          "name": "stdout"
        }
      ]
    },
    {
      "cell_type": "markdown",
      "metadata": {
        "id": "TwKKDVfmKEHS"
      },
      "source": [
        "## Data preparation"
      ]
    },
    {
      "cell_type": "markdown",
      "metadata": {
        "id": "MjrjkWBQDG6Q"
      },
      "source": [
        "Split a text into multiple chunk, each chunk contains `SEQ_LEN` characters.\n",
        "\n",
        "As the task is to predict the next character, we define the input and the target for each chunk as:\n",
        "- Input: Up to the last character.\n",
        "- Target: Input shifted one character to the right."
      ]
    },
    {
      "cell_type": "code",
      "metadata": {
        "id": "jzhYcJxYLKSO"
      },
      "source": [
        "def train_target_split(chunk):\n",
        "  input_chunk = chunk[:-1]\n",
        "  target_chunk = chunk[1:]\n",
        "  return input_chunk, target_chunk"
      ],
      "execution_count": 11,
      "outputs": []
    },
    {
      "cell_type": "code",
      "metadata": {
        "id": "iI_I9eOOIhJo"
      },
      "source": [
        "SEQ_LEN = 64\n",
        "BUFFER_SIZE = 10000\n",
        "samples = tf.data.Dataset.from_tensor_slices(text_ids).batch(SEQ_LEN + 1, drop_remainder=True).map(train_target_split).shuffle(BUFFER_SIZE)"
      ],
      "execution_count": 12,
      "outputs": []
    },
    {
      "cell_type": "markdown",
      "metadata": {
        "id": "1wBU1OQbVYwP"
      },
      "source": [
        "**Batchify data**"
      ]
    },
    {
      "cell_type": "code",
      "metadata": {
        "id": "ax4eyjmcQLSg"
      },
      "source": [
        "BATCH_SIZE = 64\n",
        "\n",
        "test_size = 0.2\n",
        "num_samples = sum(1 for x in samples)\n",
        "num_train_samples = int(test_size * num_samples)\n",
        "ds_train = samples.take(num_train_samples).batch(BATCH_SIZE)\n",
        "ds_val = samples.skip(num_train_samples).batch(BATCH_SIZE)"
      ],
      "execution_count": 13,
      "outputs": []
    },
    {
      "cell_type": "markdown",
      "metadata": {
        "id": "b4tDfTOkLvxb"
      },
      "source": [
        "## Model architecture"
      ]
    },
    {
      "cell_type": "code",
      "metadata": {
        "id": "gc9wXRbMKFd_"
      },
      "source": [
        "from tensorflow.keras.models import Sequential\n",
        "from tensorflow.keras.layers import Embedding, Dense, LSTM, Bidirectional"
      ],
      "execution_count": 14,
      "outputs": []
    },
    {
      "cell_type": "code",
      "metadata": {
        "id": "o-nW7zHbFVh5"
      },
      "source": [
        "EMBED_DIM = 64\n",
        "VOCAB_SIZE = len(vocab)"
      ],
      "execution_count": 15,
      "outputs": []
    },
    {
      "cell_type": "code",
      "metadata": {
        "id": "MY4EHlxtJEkf",
        "colab": {
          "base_uri": "https://localhost:8080/"
        },
        "outputId": "38befc1d-98bc-40ac-8ffb-60b74591b7df"
      },
      "source": [
        "model = Sequential()\n",
        "model.add(Embedding(input_dim=VOCAB_SIZE, output_dim=EMBED_DIM))\n",
        "model.add(Bidirectional(LSTM(32, return_sequences=True)))\n",
        "model.add(Dense(VOCAB_SIZE, activation=\"softmax\"))\n",
        "model.summary()"
      ],
      "execution_count": 16,
      "outputs": [
        {
          "output_type": "stream",
          "text": [
            "Model: \"sequential\"\n",
            "_________________________________________________________________\n",
            "Layer (type)                 Output Shape              Param #   \n",
            "=================================================================\n",
            "embedding (Embedding)        (None, None, 64)          4160      \n",
            "_________________________________________________________________\n",
            "bidirectional (Bidirectional (None, None, 64)          24832     \n",
            "_________________________________________________________________\n",
            "dense (Dense)                (None, None, 65)          4225      \n",
            "=================================================================\n",
            "Total params: 33,217\n",
            "Trainable params: 33,217\n",
            "Non-trainable params: 0\n",
            "_________________________________________________________________\n"
          ],
          "name": "stdout"
        }
      ]
    },
    {
      "cell_type": "code",
      "metadata": {
        "id": "xcTyS8P-Fg50"
      },
      "source": [
        "model.compile(optimizer=\"rmsprop\", loss=\"sparse_categorical_crossentropy\", metrics=[\"acc\"])"
      ],
      "execution_count": 17,
      "outputs": []
    },
    {
      "cell_type": "code",
      "metadata": {
        "id": "EsymzS6JGEPH",
        "colab": {
          "base_uri": "https://localhost:8080/"
        },
        "outputId": "424b3cce-4485-4a94-8b6b-81e52d9c107f"
      },
      "source": [
        "history = model.fit(ds_train, epochs=10, validation_data=ds_val)"
      ],
      "execution_count": 18,
      "outputs": [
        {
          "output_type": "stream",
          "text": [
            "Epoch 1/10\n",
            "54/54 [==============================] - 17s 223ms/step - loss: 3.4614 - acc: 0.1386 - val_loss: 3.1984 - val_acc: 0.1557\n",
            "Epoch 2/10\n",
            "54/54 [==============================] - 12s 208ms/step - loss: 3.0522 - acc: 0.1823 - val_loss: 2.8792 - val_acc: 0.2138\n",
            "Epoch 3/10\n",
            "54/54 [==============================] - 12s 210ms/step - loss: 2.6848 - acc: 0.2607 - val_loss: 2.4567 - val_acc: 0.3373\n",
            "Epoch 4/10\n",
            "54/54 [==============================] - 12s 208ms/step - loss: 2.2225 - acc: 0.4292 - val_loss: 1.9868 - val_acc: 0.5148\n",
            "Epoch 5/10\n",
            "54/54 [==============================] - 12s 208ms/step - loss: 1.7743 - acc: 0.5796 - val_loss: 1.5651 - val_acc: 0.6464\n",
            "Epoch 6/10\n",
            "54/54 [==============================] - 12s 211ms/step - loss: 1.3818 - acc: 0.6985 - val_loss: 1.2180 - val_acc: 0.7485\n",
            "Epoch 7/10\n",
            "54/54 [==============================] - 12s 211ms/step - loss: 1.0729 - acc: 0.7857 - val_loss: 0.9413 - val_acc: 0.8181\n",
            "Epoch 8/10\n",
            "54/54 [==============================] - 12s 212ms/step - loss: 0.8221 - acc: 0.8478 - val_loss: 0.7229 - val_acc: 0.8703\n",
            "Epoch 9/10\n",
            "54/54 [==============================] - 12s 210ms/step - loss: 0.6292 - acc: 0.8909 - val_loss: 0.5493 - val_acc: 0.9049\n",
            "Epoch 10/10\n",
            "54/54 [==============================] - 12s 210ms/step - loss: 0.4766 - acc: 0.9223 - val_loss: 0.4161 - val_acc: 0.9349\n"
          ],
          "name": "stdout"
        }
      ]
    }
  ]
}